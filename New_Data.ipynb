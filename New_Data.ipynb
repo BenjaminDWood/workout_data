{
 "cells": [
  {
   "cell_type": "code",
   "execution_count": 2,
   "id": "cac95740-f1e4-4942-94c1-2a5768f8c017",
   "metadata": {},
   "outputs": [],
   "source": [
    "import pandas as pd\n",
    "from datetime import datetime\n",
    "from sqlalchemy import create_engine"
   ]
  },
  {
   "cell_type": "markdown",
   "id": "24700ca2-e9f0-42bd-9af6-e836861c3461",
   "metadata": {},
   "source": [
    "1. Check for null data... step 1: check for it, throw an error if null data occurs in a non-null column (Non-nulls are log, date, WO name, ex id, set index,  set, measurement)\n",
    "2. Drop notes column </\n",
    "3. Convert Date data </\n",
    "4. Convert exercise name to exercise_id\n",
    "5. log_ID should be incremented?\n",
    "6. set_index must be added\n",
    "7. Account for new exercises that may not be present (will need exercise converting to exercise_id, mapping to other tables...)\n",
    "8. Mak sure columns are in the correct order!\n",
    "9. Merge the new df with the original\n",
    "\n",
    "Errors:\n",
    "If a new exercise is detected, it should be easy enough to map it into the exercises table and create the ID etc. for it. It will not have the muscle data it needs.\n",
    "Solution: Throw an error if this is the case, write a new function that will add an exercise."
   ]
  },
  {
   "cell_type": "code",
   "execution_count": 5,
   "id": "afb3d692-c122-4d26-8c4b-cd453423f9b9",
   "metadata": {},
   "outputs": [
    {
     "ename": "NameError",
     "evalue": "name 'df' is not defined",
     "output_type": "error",
     "traceback": [
      "\u001b[1;31m---------------------------------------------------------------------------\u001b[0m",
      "\u001b[1;31mNameError\u001b[0m                                 Traceback (most recent call last)",
      "Cell \u001b[1;32mIn[5], line 6\u001b[0m\n\u001b[0;32m      2\u001b[0m     new_data \u001b[38;5;241m=\u001b[39m pd\u001b[38;5;241m.\u001b[39mread_csv(csv)\n\u001b[0;32m      3\u001b[0m     new_data \u001b[38;5;241m=\u001b[39m new_data\u001b[38;5;241m.\u001b[39mdrop(columns\u001b[38;5;241m=\u001b[39m[\u001b[38;5;124m'\u001b[39m\u001b[38;5;124mNotes\u001b[39m\u001b[38;5;124m'\u001b[39m])\n\u001b[1;32m----> 6\u001b[0m df[\u001b[38;5;124m'\u001b[39m\u001b[38;5;124mDate\u001b[39m\u001b[38;5;124m'\u001b[39m] \u001b[38;5;241m=\u001b[39m pd\u001b[38;5;241m.\u001b[39mto_datetime(df[\u001b[38;5;124m'\u001b[39m\u001b[38;5;124mDate\u001b[39m\u001b[38;5;124m'\u001b[39m], \u001b[38;5;28mformat\u001b[39m \u001b[38;5;241m=\u001b[39m \u001b[38;5;124m'\u001b[39m\u001b[38;5;132;01m%d\u001b[39;00m\u001b[38;5;124m/\u001b[39m\u001b[38;5;124m%\u001b[39m\u001b[38;5;124mm/\u001b[39m\u001b[38;5;124m%\u001b[39m\u001b[38;5;124mY \u001b[39m\u001b[38;5;124m%\u001b[39m\u001b[38;5;124mH:\u001b[39m\u001b[38;5;124m%\u001b[39m\u001b[38;5;124mM\u001b[39m\u001b[38;5;124m'\u001b[39m)\n",
      "\u001b[1;31mNameError\u001b[0m: name 'df' is not defined"
     ]
    }
   ],
   "source": [
    "def add_new_data(csv): #Enter file name here as 'file_name.csv'\n",
    "    new_data = pd.read_csv(csv)\n",
    "    nd = new_data.copy()\n",
    "    nd = nd.drop(columns=['Notes'])\n",
    "\n",
    "    nd['Date'] = pd.to_datetime(df['Date']).dt.date #Should adjust the date format\n",
    "\n",
    "    nd['set_index'] = (df['Set'] == df['set_index'].max() + 1).cumsum() #Used initially to for the set_index. Probs won't work at this stage, because it'll start from 1. \\\n",
    "    #Could use a max formula to get the current highest and start from there? Lambda formula?\n",
    "\n",
    "    exercise_map = ex.set_index('exercise_name')['exercise_id'].to_dict() #.set_index sets the specified column as an index (ex_name), and the ID as the value\n",
    "    nd['exercise_id'] = nd['Exercise'].map(exercise_map) #Used to \n",
    "    nd = nd.drop(columns=['Exercise'])\n",
    "    "
   ]
  },
  {
   "cell_type": "code",
   "execution_count": null,
   "id": "d139cb9b-bc0c-418e-975b-9bc19a48ade6",
   "metadata": {},
   "outputs": [],
   "source": [
    "    nd['Date'] = pd.to_datetime(df['Date']).dt.date #Should adjust the date format\n",
    "\n"
   ]
  },
  {
   "cell_type": "code",
   "execution_count": null,
   "id": "b319b7eb-af18-4fc9-ab25-52b027369381",
   "metadata": {},
   "outputs": [],
   "source": [
    "    nd['set_index'] = (df['Set'] == 1).cumsum() #Used initially to for the set_index. Probs won't work at this stage, because it'll start from 1. \\\n",
    "    #Could use a max formula to get the current highest and start from there? Lambda func?\n",
    "\n",
    "last_set_index = df['set_index'].max()\n",
    "df_new['set_index'] = (df_new['Set'] == 1).cumsum() + last_set_index\n",
    "\n",
    "df_combined = pd.concat([df_original, df_new]) #These are placeholders for now, will have to rework the df names etc to be consistent!"
   ]
  },
  {
   "cell_type": "code",
   "execution_count": null,
   "id": "61c7b228-447e-4232-a69e-7fad08df6157",
   "metadata": {},
   "outputs": [],
   "source": []
  }
 ],
 "metadata": {
  "kernelspec": {
   "display_name": "Python [conda env:base] *",
   "language": "python",
   "name": "conda-base-py"
  },
  "language_info": {
   "codemirror_mode": {
    "name": "ipython",
    "version": 3
   },
   "file_extension": ".py",
   "mimetype": "text/x-python",
   "name": "python",
   "nbconvert_exporter": "python",
   "pygments_lexer": "ipython3",
   "version": "3.12.7"
  }
 },
 "nbformat": 4,
 "nbformat_minor": 5
}
