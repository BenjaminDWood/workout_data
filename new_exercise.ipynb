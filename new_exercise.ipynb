{
 "cells": [
  {
   "cell_type": "markdown",
   "id": "af03de8a-4851-471a-baac-fe39b5e6713f",
   "metadata": {},
   "source": [
    "Creating a formula to add a new exercise\n",
    "\n",
    "Input:\n",
    "\n",
    "Exercise name\n",
    "Primary muscle\n",
    "secondary muscles\n",
    "Create IDs?"
   ]
  },
  {
   "cell_type": "code",
   "execution_count": 19,
   "id": "5398fad0-f9fe-4838-a5fe-0282fef79480",
   "metadata": {},
   "outputs": [],
   "source": [
    "import pandas as pd\n",
    "\n",
    "def new_exercise_text(exercise, primary_muscle, *secondary_muscles):\n",
    "    print(f\"Exercise: {exercise}\")\n",
    "    print(f\"Primary Muscle: {primary_muscle}\")\n",
    "    if not secondary_muscles:\n",
    "        print(\"Isolation Exercise\")\n",
    "    else:\n",
    "        print(f\"Secondary Muscle(s): {secondary_muscles}\")\n",
    "    "
   ]
  },
  {
   "cell_type": "code",
   "execution_count": 21,
   "id": "2a9e6c82-f4c7-4b3c-8573-24b0a524c961",
   "metadata": {},
   "outputs": [
    {
     "name": "stdout",
     "output_type": "stream",
     "text": [
      "Exercise: Lying Chest Press Machine\n",
      "Primary Muscle: Chest\n",
      "Isolation Exercise\n"
     ]
    }
   ],
   "source": [
    "new_exercise_text(\"Lying Chest Press Machine\", \"Chest\")"
   ]
  },
  {
   "cell_type": "code",
   "execution_count": 23,
   "id": "0059418b-5f93-40da-ac25-b66310510fdc",
   "metadata": {},
   "outputs": [],
   "source": [
    "def new_exercise(exercise, primary_muscle, *secondary_muscles):\n",
    "    if exercise in ex['exercise_name'].values:\n",
    "        print(f\"'{exercise}' already exists.\") #Could add here to view the exercise\n",
    "        return\n",
    "        ex['exercise_name'].append(exercise)\n",
    "    \n",
    "    "
   ]
  },
  {
   "cell_type": "code",
   "execution_count": null,
   "id": "5044d5a4-331e-4c71-8fda-4f4ac2a05df0",
   "metadata": {},
   "outputs": [],
   "source": []
  }
 ],
 "metadata": {
  "kernelspec": {
   "display_name": "Python [conda env:base] *",
   "language": "python",
   "name": "conda-base-py"
  },
  "language_info": {
   "codemirror_mode": {
    "name": "ipython",
    "version": 3
   },
   "file_extension": ".py",
   "mimetype": "text/x-python",
   "name": "python",
   "nbconvert_exporter": "python",
   "pygments_lexer": "ipython3",
   "version": "3.12.7"
  }
 },
 "nbformat": 4,
 "nbformat_minor": 5
}
