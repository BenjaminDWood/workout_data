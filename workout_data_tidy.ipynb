{
 "cells": [
  {
   "cell_type": "code",
   "execution_count": 1,
   "id": "af93d26b-c939-4138-b561-50a8f1efe29b",
   "metadata": {},
   "outputs": [],
   "source": [
    "import pandas as pd\n",
    "from datetime import datetime\n",
    "\n",
    "raw_data = pd.read_csv('daily_strength2.csv')\n",
    "df = raw_data.copy()"
   ]
  },
  {
   "cell_type": "code",
   "execution_count": 5,
   "id": "83c205e2-e321-4482-b769-1be884940761",
   "metadata": {},
   "outputs": [],
   "source": [
    "df = df.drop(['Notes'], axis=1) #No notes are present\n",
    "\n",
    "#Will keep distance and duration in case cardio gets logged in future; all entries are currently null"
   ]
  },
  {
   "cell_type": "code",
   "execution_count": 9,
   "id": "2424aaa6-8e58-4e1d-95ee-af23e976358b",
   "metadata": {},
   "outputs": [],
   "source": [
    "#Quite certain this is a warm-up set with an unloaded bar, so will change to 0\n",
    "\n",
    "df['Weight'] = df['Weight'].fillna(0)"
   ]
  },
  {
   "cell_type": "code",
   "execution_count": 17,
   "id": "5769589c-ca7c-4a1e-bd8f-74c2bb153023",
   "metadata": {},
   "outputs": [],
   "source": [
    "df['Date'] = pd.to_datetime(df['Date'], format = '%Y-%m-%d %H:%M:%S').dt.date"
   ]
  },
  {
   "cell_type": "code",
   "execution_count": 22,
   "id": "446f6884-27ae-478e-9bd4-7bacf51c735f",
   "metadata": {},
   "outputs": [],
   "source": [
    "cutoff_date = pd.Timestamp('2025-03-01').date()\n",
    "df = df[df['Date'] >= cutoff_date]"
   ]
  },
  {
   "cell_type": "code",
   "execution_count": 25,
   "id": "7d7fe4a6-1d6e-42a2-9b81-3ff96b065452",
   "metadata": {},
   "outputs": [],
   "source": [
    "df = df.reset_index()"
   ]
  },
  {
   "cell_type": "code",
   "execution_count": 27,
   "id": "3bb93fcb-66b1-4e90-8804-daa7b063d875",
   "metadata": {},
   "outputs": [],
   "source": [
    "df.rename(columns={'index': 'ID'}, inplace=True)"
   ]
  },
  {
   "cell_type": "code",
   "execution_count": 32,
   "id": "95967d2f-6507-47eb-b372-d62075923af0",
   "metadata": {},
   "outputs": [],
   "source": [
    "exercises = pd.DataFrame(columns=['exercise_id', 'exercise_name', 'primary_muscle'])\n",
    "muscles = pd.DataFrame(columns=['muscle_id', 'muscle_name', 'muscle_group'])\n",
    "secondary_muscles = pd.DataFrame(columns=['exercise_id', 'muscle_id'])"
   ]
  },
  {
   "cell_type": "code",
   "execution_count": 34,
   "id": "6450a36b-14fd-407f-be5f-56350360146a",
   "metadata": {},
   "outputs": [],
   "source": [
    "ex = exercises.copy()"
   ]
  },
  {
   "cell_type": "code",
   "execution_count": 36,
   "id": "e173ce5b-c9cb-4036-901b-cd659ad3e6ed",
   "metadata": {},
   "outputs": [],
   "source": [
    "exercise_list = df['Exercise'].unique()"
   ]
  },
  {
   "cell_type": "code",
   "execution_count": 37,
   "id": "bb93a2ca-0d24-4f2c-86a0-ae09b7ce0024",
   "metadata": {},
   "outputs": [],
   "source": [
    "ex['exercise_name'] = exercise_list"
   ]
  },
  {
   "cell_type": "code",
   "execution_count": 39,
   "id": "8f3d84c0-3260-44d9-b4a6-9f219f1abe43",
   "metadata": {},
   "outputs": [],
   "source": [
    "mu = muscles.copy()"
   ]
  },
  {
   "cell_type": "code",
   "execution_count": 40,
   "id": "9ae3dfa9-f617-48a9-9e6e-4e0e79bc70b0",
   "metadata": {},
   "outputs": [],
   "source": [
    "muscle_names = ['chest', 'shoulders', 'traps', 'lats', 'middle back', 'lower back', 'biceps', 'triceps', 'forearms', 'abs',\\\n",
    "                'quadriceps', 'hamstrings', 'glutes', 'abductors', 'adductors', 'calves', 'cardio']"
   ]
  },
  {
   "cell_type": "code",
   "execution_count": 41,
   "id": "57144765-2038-481c-8457-f802e627a69b",
   "metadata": {},
   "outputs": [],
   "source": [
    "mu['muscle_name'] = muscle_names"
   ]
  },
  {
   "cell_type": "code",
   "execution_count": 43,
   "id": "19475b8a-58d8-4c1a-9c40-8025f0f411bc",
   "metadata": {},
   "outputs": [],
   "source": [
    "muscle_groups = {'chest':'chest', 'shoulders':'shoulders', 'traps':'shoulders', 'lats':'back', 'middle back':'back', 'lower back':'back',\\\n",
    "                 'biceps':'arms', 'triceps':'arms', 'forearms':'arms', 'abs':'abs', 'quadriceps':'legs', 'hamstrings':'legs', 'glutes':'legs',\\\n",
    "                 'abductors':'thighs', 'adductors':'thighs', 'calves':'legs', 'cardio':'cardio'}"
   ]
  },
  {
   "cell_type": "code",
   "execution_count": 44,
   "id": "0d2f17b5-087c-4cb9-96d5-c29ce0751259",
   "metadata": {},
   "outputs": [],
   "source": [
    "mu['muscle_group'] = mu['muscle_name'].map(muscle_groups)"
   ]
  },
  {
   "cell_type": "code",
   "execution_count": 46,
   "id": "f74ce1d7-2ff8-40a0-b26c-2f75aaf25ff6",
   "metadata": {},
   "outputs": [],
   "source": [
    "mu['muscle_id'] = range(1, len(mu) + 1)"
   ]
  },
  {
   "cell_type": "code",
   "execution_count": 48,
   "id": "680ee7d4-777b-493e-a7c1-0a49a55bef79",
   "metadata": {},
   "outputs": [],
   "source": [
    "ex['exercise_id'] = range(1, len(ex) + 1)"
   ]
  },
  {
   "cell_type": "code",
   "execution_count": 50,
   "id": "ec3d1abc-773b-431a-bdfd-e3a17c96ab47",
   "metadata": {},
   "outputs": [
    {
     "data": {
      "text/plain": [
       "array(['One Arm Dumbbell Row', 'Wide Grip Lat Pull Down',\n",
       "       'Seated Cable Rows', 'Alternating Dumbbell Hammer Curls',\n",
       "       'Dumbbell Concentration Curl', 'Barbell Bench Press',\n",
       "       'Incline Barbell Bench Press', 'Chest Press Machine',\n",
       "       'Incline Dumbbell Fly', 'Butterfly Machine',\n",
       "       'Lying Dumbbell Triceps Extension',\n",
       "       'Seated Dumbbell Triceps Extension', 'Cable Triceps Pushdown',\n",
       "       'Barbell Squat', 'Leg Press', 'Leg Extensions',\n",
       "       'Stiff Legged Barbell Deadlift', 'Seated Leg Curl',\n",
       "       'Seated Calf Raise Machine', 'Arnold Press',\n",
       "       'Lateral Dumbbell Raises', 'Seated Shoulder Press Machine',\n",
       "       'Dumbbell Upright Row', 'Dumbbell Shrugs', 'Barbell Deadlifts',\n",
       "       'Preacher Curl Machine', 'Seated Dumbbell Bicep Curls',\n",
       "       'Incline Dumbbell Bench Press', 'Dumbbell Bench Press',\n",
       "       'Dumbbell Lunges', 'Dumbbell Hammer Curls'], dtype=object)"
      ]
     },
     "execution_count": 50,
     "metadata": {},
     "output_type": "execute_result"
    }
   ],
   "source": [
    "ex['exercise_name'].unique()"
   ]
  },
  {
   "cell_type": "code",
   "execution_count": 51,
   "id": "d032c50e-6517-4fe7-a858-a1eb33dfbbbb",
   "metadata": {},
   "outputs": [],
   "source": [
    "primary_muscle_dict = {'One Arm Dumbbell Row':'Middle Back', 'Wide Grip Lat Pull Down':'Lats',\n",
    "       'Seated Cable Rows':'Middle Back', 'Alternating Dumbbell Hammer Curls':'Biceps',\n",
    "       'Dumbbell Concentration Curl':'Biceps', 'Barbell Bench Press':'Chest',\n",
    "       'Incline Barbell Bench Press':'Chest', 'Chest Press Machine':'Chest',\n",
    "       'Incline Dumbbell Fly':'Chest', 'Butterfly Machine':'Chest',\n",
    "       'Lying Dumbbell Triceps Extension':'Triceps',\n",
    "       'Seated Dumbbell Triceps Extension':'Triceps', 'Cable Triceps Pushdown':'Triceps',\n",
    "       'Barbell Squat':'Quadriceps', 'Leg Press':'Quadriceps', 'Leg Extensions':'Quadriceps',\n",
    "       'Stiff Legged Barbell Deadlift':'Hamstrings', 'Seated Leg Curl':'Hamstrings',\n",
    "       'Seated Calf Raise Machine':'Calves', 'Arnold Press':'Shoulders',\n",
    "       'Lateral Dumbbell Raises':'Shoulders', 'Seated Shoulder Press Machine':'Shoulders',\n",
    "       'Dumbbell Upright Row':'Traps', 'Dumbbell Shrugs':'Traps', 'Barbell Deadlifts':'Hamstrings',\n",
    "       'Preacher Curl Machine':'Biceps', 'Seated Dumbbell Bicep Curls':'Biceps',\n",
    "       'Incline Dumbbell Bench Press':'Chest', 'Dumbbell Bench Press':'Chest',\n",
    "       'Dumbbell Lunges':'Quadriceps', 'Dumbbell Hammer Curls':'Biceps'}"
   ]
  },
  {
   "cell_type": "code",
   "execution_count": 53,
   "id": "bae0300d-a7b8-4db5-aa1c-33ee3c2a0f68",
   "metadata": {},
   "outputs": [],
   "source": [
    "ex['primary_muscle'] = ex['exercise_name'].map(primary_muscle_dict)"
   ]
  },
  {
   "cell_type": "code",
   "execution_count": 59,
   "id": "764b3f9a-aa03-4bc6-98c0-4c2baa76f0c2",
   "metadata": {},
   "outputs": [],
   "source": [
    "secondary_muscles_dict = {\n",
    "    'One Arm Dumbbell Row': [\"Biceps\", 'Traps', 'Lats'],\n",
    "    'Wide Grip Lat Pull Down': ['Biceps', 'Traps', 'Middle Back'],\n",
    "    'Seated Cable Rows': [\"Biceps\", 'Traps', 'Lats'],\n",
    "    'Alternating Dumbbell Hammer Curls': ['Forearms'],\n",
    "    'Barbell Bench Press': ['Shoulders', 'Triceps'],\n",
    "    'Incline Barbell Bench Press': ['Shoulders', 'Triceps'],\n",
    "    'Chest Press Machine': ['Shoulders', 'Triceps'],\n",
    "    'Incline Dumbbell Fly': ['Shoulders', 'Triceps'],\n",
    "    'Barbell Squat': ['Hamstrings', 'Calves', 'Glutes'],\n",
    "    'Leg Press': ['Hamstrings', 'Calves', 'Glutes'],\n",
    "    'Stiff Legged Barbell Deadlift': ['Lower Back', 'Quadriceps', 'Glutes'],\n",
    "    'Arnold Press': ['Triceps'],\n",
    "    'Seated Shoulder Press Machine': ['Triceps'],\n",
    "    'Dumbbell Upright Row': ['Shoulders'],\n",
    "    'Barbell Deadlifts': ['Lower Back', 'Quadriceps', 'Glutes', 'Calves'],\n",
    "    'Incline Dumbbell Bench Press': ['Shoulders', 'Triceps'],\n",
    "    'Dumbbell Bench Press': ['Shoulders', 'Triceps'],\n",
    "    'Dumbbell Lunges': ['Hamstrings', 'Calves', 'Glutes'],\n",
    "    'Dumbbell Hammer Curls': ['Forearms']\n",
    "}"
   ]
  },
  {
   "cell_type": "code",
   "execution_count": 61,
   "id": "e76f070b-b23e-4f3b-a41c-9310c0ca6b77",
   "metadata": {},
   "outputs": [],
   "source": [
    "sec = secondary_muscles.copy()"
   ]
  },
  {
   "cell_type": "code",
   "execution_count": 63,
   "id": "7b89007b-ccde-4f16-b4f4-61b1407f20e4",
   "metadata": {},
   "outputs": [],
   "source": [
    "rows = []\n",
    "\n",
    "for ex_name, muscle_list in secondary_muscles_dict.items():\n",
    "    # Try to find the exercise_id from the ex DataFrame\n",
    "    ex_match = ex[ex['exercise_name'] == ex_name]\n",
    "\n",
    "    if ex_match.empty:\n",
    "        print(f\"⚠️ Exercise not found: {ex_name}\")\n",
    "        continue\n",
    "\n",
    "    ex_id = ex_match.iloc[0]['exercise_id']\n",
    "\n",
    "    for muscle_name in muscle_list:\n",
    "        # Try to find the muscle_id from the mu DataFrame\n",
    "        mu_match = mu[mu['muscle_name'].str.lower() == muscle_name.lower()]\n",
    "\n",
    "        if mu_match.empty:\n",
    "            print(f\"⚠️ Muscle not found: {muscle_name}\")\n",
    "            continue\n",
    "\n",
    "        mu_id = mu_match.iloc[0]['muscle_id']\n",
    "\n",
    "        # Append the link to the list\n",
    "        rows.append({'exercise_id': ex_id, 'muscle_id': mu_id})\n",
    "\n",
    "# Create the sec DataFrame\n",
    "sec = pd.DataFrame(rows)"
   ]
  },
  {
   "cell_type": "code",
   "execution_count": 65,
   "id": "c0f8cb6c-ae69-469d-b7a4-86e837fdf7f3",
   "metadata": {},
   "outputs": [],
   "source": [
    "mu_fin = mu.copy()\n",
    "ex_fin = ex.copy()\n",
    "sec_fin = sec.copy()"
   ]
  },
  {
   "cell_type": "code",
   "execution_count": 70,
   "id": "f2a2bdd9-cec1-46a2-8d9d-5fec99b1e18b",
   "metadata": {},
   "outputs": [],
   "source": [
    "df['set_index'] = (df['Set'] == 1).cumsum()"
   ]
  },
  {
   "cell_type": "code",
   "execution_count": 73,
   "id": "9875ca1a-ef9c-4822-884f-4e12f63771e6",
   "metadata": {},
   "outputs": [],
   "source": [
    "columns = ['ID', 'Date', 'Workout name', 'Exercise', 'set_index', 'Set', 'Weight', 'Reps',\n",
    "       'Distance', 'Duration', 'Measurement unit']"
   ]
  },
  {
   "cell_type": "code",
   "execution_count": 74,
   "id": "e6ef54b7-2954-4d7a-91d8-64160a86a15a",
   "metadata": {},
   "outputs": [],
   "source": [
    "df = df[columns]"
   ]
  },
  {
   "cell_type": "code",
   "execution_count": 76,
   "id": "9eb0f18c-f961-4f5d-b756-ffbaee52617d",
   "metadata": {},
   "outputs": [],
   "source": [
    "df.rename(columns={'ID': 'log_ID'}, inplace=True)"
   ]
  },
  {
   "cell_type": "code",
   "execution_count": 80,
   "id": "b5de4bf3-d5cb-4d55-a92a-0892e1d35f23",
   "metadata": {},
   "outputs": [],
   "source": [
    "ex['primary_muscle'] = ex['primary_muscle'].str.strip().str.lower()"
   ]
  },
  {
   "cell_type": "code",
   "execution_count": 81,
   "id": "d49d8d28-1d23-4ffb-8bf4-dd7a0d9f6e76",
   "metadata": {},
   "outputs": [],
   "source": [
    "ex = ex.merge(                          # ex = ex merged as below with mu\n",
    "    mu[['muscle_name', 'muscle_id']],   #This uses only the necessary columns from muscles\n",
    "    left_on='primary_muscle',               \n",
    "    right_on='muscle_name',                 # From the muscle table\n",
    "    how='left'                              # Keep all rows from exercises\n",
    ")"
   ]
  },
  {
   "cell_type": "code",
   "execution_count": 83,
   "id": "b2db2e14-3f45-4f63-bf3a-c9c3f992ad27",
   "metadata": {},
   "outputs": [],
   "source": [
    "ex = ex.drop(['primary_muscle','muscle_name'], axis=1)"
   ]
  },
  {
   "cell_type": "code",
   "execution_count": 89,
   "id": "f8eda6a4-bb02-4d41-ab3f-2930fe650ea2",
   "metadata": {},
   "outputs": [],
   "source": [
    "exercise_map = ex.set_index('exercise_name')['exercise_id'].to_dict()"
   ]
  },
  {
   "cell_type": "code",
   "execution_count": 90,
   "id": "86521564-b9f5-4e76-b225-252a42f6196d",
   "metadata": {},
   "outputs": [],
   "source": [
    "df['exercise_id'] = df['Exercise'].map(exercise_map)"
   ]
  },
  {
   "cell_type": "code",
   "execution_count": 92,
   "id": "91717c51-2445-4038-837a-363908d48e1f",
   "metadata": {},
   "outputs": [],
   "source": [
    "df = df.drop('Exercise', axis =1)"
   ]
  },
  {
   "cell_type": "code",
   "execution_count": 94,
   "id": "d31b09ef-a20f-4890-b7cd-9557e4a46603",
   "metadata": {},
   "outputs": [],
   "source": [
    "columns_order = ['log_ID', 'Date', 'Workout name', 'exercise_id', 'set_index', 'Set', 'Weight', 'Reps',\n",
    "       'Distance', 'Duration', 'Measurement unit']"
   ]
  },
  {
   "cell_type": "code",
   "execution_count": 95,
   "id": "e4733ab4-4865-4cb8-9bf2-20f6215ffc1c",
   "metadata": {},
   "outputs": [],
   "source": [
    "df = df[columns_order]"
   ]
  },
  {
   "cell_type": "code",
   "execution_count": 99,
   "id": "b12cc120-1bae-4cc1-895a-1272c71c41b0",
   "metadata": {},
   "outputs": [],
   "source": [
    "df_fin = df.copy()\n",
    "mu_fin = mu.copy()\n",
    "ex_fin = ex.copy()\n",
    "sec_fin = sec.copy()"
   ]
  },
  {
   "cell_type": "code",
   "execution_count": 101,
   "id": "606db50b-6374-46e2-97bc-0518932cbdff",
   "metadata": {},
   "outputs": [],
   "source": [
    "df_fin.to_csv('main_0725.csv', index=False)\n",
    "mu_fin.to_csv('muscles_0725.csv', index=False)\n",
    "ex_fin.to_csv('exercises_0725.csv', index=False)\n",
    "sec_fin.to_csv('secondary_muscles_0725.csv', index=False)"
   ]
  }
 ],
 "metadata": {
  "kernelspec": {
   "display_name": "Python [conda env:base] *",
   "language": "python",
   "name": "conda-base-py"
  },
  "language_info": {
   "codemirror_mode": {
    "name": "ipython",
    "version": 3
   },
   "file_extension": ".py",
   "mimetype": "text/x-python",
   "name": "python",
   "nbconvert_exporter": "python",
   "pygments_lexer": "ipython3",
   "version": "3.12.7"
  }
 },
 "nbformat": 4,
 "nbformat_minor": 5
}
